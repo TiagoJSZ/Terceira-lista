{
 "cells": [
  {
   "cell_type": "code",
   "execution_count": 6,
   "id": "7179ac8a",
   "metadata": {},
   "outputs": [],
   "source": [
    "from math import*\n",
    "import matplotlib.pyplot as plt\n",
    "import numpy as np"
   ]
  },
  {
   "cell_type": "code",
   "execution_count": 7,
   "id": "3931143a",
   "metadata": {},
   "outputs": [],
   "source": [
    "def f(t,x):\n",
    "    func=(2+(x-t-1)**2)\n",
    "    return func"
   ]
  },
  {
   "cell_type": "code",
   "execution_count": 37,
   "id": "fa3af7c8",
   "metadata": {},
   "outputs": [
    {
     "name": "stdout",
     "output_type": "stream",
     "text": [
      "x( 1.0 )= 2.0\n",
      "x( 1.5 )= 3.046053013453881\n"
     ]
    },
    {
     "data": {
      "image/png": "[encoded data removed]",
      "text/plain": [
       "<Figure size 432x288 with 1 Axes>"
      ]
     },
     "metadata": {
      "needs_background": "light"
     },
     "output_type": "display_data"
    }
   ],
   "source": [
    "def RK4(t0,x0,h,n):\n",
    "    t=np.zeros(n+1)\n",
    "    x=np.zeros(n+1)\n",
    "    t[0]=t0\n",
    "    x[0]=x0\n",
    "    print('x(',t[0],')=',x[0])\n",
    "    for k in range(n):\n",
    "        k1=f(t[k],x[k])\n",
    "        k2=f(t[k]+(h/2),x[k]+(h/2)*k1)\n",
    "        k3=f(t[k]+(h/2),x[k]+(h/2)*k2)\n",
    "        k4=f(t[k]+h,x[k]+h*k3)\n",
    "        x[k+1]=x[k]+(h/6)*(k1+2*k2+2*k3+k4)\n",
    "        t[k+1]=t[k]+h\n",
    "        print('x(',round(t[k+1],3),')=',x[k+1])\n",
    "        \n",
    "    plt.plot(t,x)\n",
    "\n",
    "RK4(1,2,0.5,1)\n",
    "    "
   ]
  },
  {
   "cell_type": "code",
   "execution_count": null,
   "id": "7bed4d33",
   "metadata": {},
   "outputs": [],
   "source": []
  }
 ],
 "metadata": {
  "kernelspec": {
   "display_name": "Python 3",
   "language": "python",
   "name": "python3"
  },
  "language_info": {
   "codemirror_mode": {
    "name": "ipython",
    "version": 3
   },
   "file_extension": ".py",
   "mimetype": "text/x-python",
   "name": "python",
   "nbconvert_exporter": "python",
   "pygments_lexer": "ipython3",
   "version": "3.8.8"
  }
 },
 "nbformat": 4,
 "nbformat_minor": 5
}
